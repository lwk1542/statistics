{
 "cells": [
  {
   "cell_type": "markdown",
   "metadata": {},
   "source": [
    "# datawhale:统计学基础"
   ]
  },
  {
   "cell_type": "markdown",
   "metadata": {},
   "source": [
    "## Task 1"
   ]
  },
  {
   "cell_type": "markdown",
   "metadata": {},
   "source": [
    "#### 样本和总体\n",
    "总体：population，研究对象的全部情况；\n",
    "样本：sample，从总体中取出一部分数据。\n",
    "${\\mu}$:表示总体均值；\n",
    "${\\bar X}$:表示样本均值。\n",
    "\n",
    "\n",
    "${\\mu}=\\frac{\\sum_{i=1}^{N}}{N}$；\n",
    "${\\bar X}=\\frac{\\sum_{i=1}^{n}{x_i}}{n}$。N表示研究对象总量，n表示样本量。\n",
    "\n",
    "#### 总体方差，variance：\n",
    "\n",
    "\n",
    "均值不能完全反应数据离散情况，方差则可以：\n",
    "\n",
    "\n",
    "${\\sigma^2}=\\frac{\\sum_{i=1}^{N}{(x_{i}-\\mu)^2}}{N}=\\frac{\\sum_{i=1}^{N}{x_i}^2}{N}-\\mu^2$\n",
    "\n",
    "\n",
    "### 样本方差\n",
    "样本方差可能与总体方差差距很大，所以需要进行无偏估计\n",
    "\n",
    "\n",
    "\n",
    "${S^2_n}=\\frac{\\sum_{i=1}^{n}{(x_i-\\bar X)}^2}{n}$\n",
    "\n",
    "\n",
    "### 总体方差的无偏估计\n",
    "${S^2_n}={S^2_{n-1}}=\\frac{\\sum_{i=1}^{n}{(x_i-\\bar X)}^2}{n-1}$\n",
    "\n",
    "\n",
    "### 标准差 standard deviation\n",
    "总体：$\\sigma=\\sqrt{\\sigma^2}={\\sqrt{\\frac{\\sum_{i=1}^{N}{(x_i-\\mu)}^2}{N}}}$\n",
    "\n",
    "\n",
    "样本：$S=\\sqrt{S^2}$\n",
    "### 随机变量，random variable\n",
    "其实是函数，通常用大写字母表示；离散型和连续型；discrete，continuous\n",
    "\n",
    "\n",
    "### 概率密度函数\n",
    "只有在求一个区间的概率才有意义，因为理论上无法衡量一个确定的值\n",
    "\n",
    "\n",
    "\n",
    "$P(|Y-2|<0.1)$\n",
    "\n",
    "\n",
    "通过概率密度函数求概率实际上也是求积分面积\n",
    "\n",
    "\n",
    "### 二项分布\n",
    "以抛5次硬币为例：x正面朝上的概率为：$P(X)=\\frac{C_{5}^X}{32}$\n",
    "\n",
    "二项分布的概率计算公式：p表示一次独立实验某事件发生的概率，k为发生的次数，m为总的实验次数。\n",
    "$P(X=k)=C_m^k·p^k·(1-p)^{(m-k)}$\n",
    "\n",
    "在python中，求二项分布的概率和累计概率：\n",
    "\n",
    "\n",
    "from scipy import stats\n",
    "stats.binom.pmf(20,100,0.5) # 20 达成目标的试验次数， 100总次数， 0.5 达成目标的概率\n",
    "\n",
    "stats.binom.cdf(20,100,0.5)\n",
    "\n",
    "\n",
    "#### 二项分布的期望和方差\n",
    "$E(X)=\\sum_{k=0}^N{k·P(X=k)}=np$\n",
    "\n",
    "\n",
    "$D(X)=\\sum_{k=0}^{N}{(x-p)^2}$\n",
    "\n",
    "#### 二项分布在深度学习中的应用：\n",
    "dropout层使用二项分布生成掩码来随机覆盖掉一部分神经元的活性，用以提高结果的稳定性\n",
    "\n",
    "### 泊松分布：\n",
    "$P(X=k)=\\frac{e^{-\\lambda}\\cdot{\\lambda}^k}{k!}$\n",
    "\n",
    "\n",
    "## 大数定律\n",
    "样本量足够大的时候，随机变量的n次观测样本的均值趋近于总体样本的期望值。注意赌徒谬论。\n",
    "\n",
    "## 正态分布\n",
    "normal distribution，Gaussian distribution,钟形曲线\n",
    "$X\\sim N(\\mu,\\sigma^2)$\n",
    "概率密度函数：\n",
    "$f(x)=\\frac{1}{\\sigma\\sqrt{2\\pi}}e^{-{\\frac{1}{2}({\\frac{x-\\mu}{\\sigma}})^2}}$"
   ]
  },
  {
   "cell_type": "markdown",
   "metadata": {},
   "source": [
    "## Task2"
   ]
  },
  {
   "cell_type": "code",
   "execution_count": null,
   "metadata": {},
   "outputs": [],
   "source": []
  }
 ],
 "metadata": {
  "kernelspec": {
   "display_name": "Python 3",
   "language": "python",
   "name": "python3"
  },
  "language_info": {
   "codemirror_mode": {
    "name": "ipython",
    "version": 3
   },
   "file_extension": ".py",
   "mimetype": "text/x-python",
   "name": "python",
   "nbconvert_exporter": "python",
   "pygments_lexer": "ipython3",
   "version": "3.6.5"
  }
 },
 "nbformat": 4,
 "nbformat_minor": 2
}
